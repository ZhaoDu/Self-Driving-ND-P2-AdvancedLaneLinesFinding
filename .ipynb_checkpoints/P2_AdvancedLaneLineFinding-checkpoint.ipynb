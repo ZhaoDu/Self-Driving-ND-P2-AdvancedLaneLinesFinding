{
 "cells": [
  {
   "cell_type": "markdown",
   "metadata": {},
   "source": [
    "## Advanced Lane Finding Project\n",
    "The goals / steps of this project are the following:\n",
    "- Compute the camera calibration matrix and distortion coefficients given a set of chessboard images.\n",
    "- Apply a distortion correction to raw images.\n",
    "- Use color transforms, gradients, etc., to create a thresholded binary image.\n",
    "- Apply a perspective transform to rectify binary image (\"birds-eye view\").\n",
    "- Detect lane pixels and fit to find the lane boundary.\n",
    "- Determine the curvature of the lane and vehicle position with respect to center.\n",
    "- Warp the detected lane boundaries back onto the original image.\n",
    "- Output visual display of the lane boundaries and numerical estimation of lane curvature and vehicle position."
   ]
  },
  {
   "cell_type": "markdown",
   "metadata": {},
   "source": [
    "## Package Import"
   ]
  },
  {
   "cell_type": "code",
   "execution_count": null,
   "metadata": {},
   "outputs": [],
   "source": [
    "import os\n",
    "import numpy as np\n",
    "import cv2\n",
    "import glob\n",
    "import pickle\n",
    "import matplotlib.image as mpimg\n",
    "import matplotlib.pyplot as plt\n",
    "from skimage import data,color,morphology\n",
    "%matplotlib inline"
   ]
  },
  {
   "cell_type": "markdown",
   "metadata": {},
   "source": [
    "## Camera Calibration"
   ]
  },
  {
   "cell_type": "markdown",
   "metadata": {},
   "source": [
    "### Compute the camera calibration using chessboard images\n",
    "- Save the camera calibration result in `wide_dist_pickle.p` for later use"
   ]
  },
  {
   "cell_type": "code",
   "execution_count": null,
   "metadata": {
    "scrolled": true
   },
   "outputs": [],
   "source": [
    "# prepare object points, like (0,0,0), (1,0,0), (2,0,0) ....,(6,5,0)\n",
    "objp = np.zeros((6*9,3), np.float32)\n",
    "objp[:,:2] = np.mgrid[0:9,0:6].T.reshape(-1,2)\n",
    "\n",
    "# Arrays to store object points and image points from all the images.\n",
    "objpoints = [] # 3d points in real world space\n",
    "imgpoints = [] # 2d points in image plane.\n",
    "\n",
    "# Make a list of calibration images\n",
    "images = glob.glob('./camera_cal/calibration*.jpg')\n",
    "\n",
    "# Step through the list and search for chessboard corners\n",
    "for fname in images:\n",
    "    img = cv2.imread(fname)\n",
    "    img_size = (img.shape[1], img.shape[0])\n",
    "    gray = cv2.cvtColor(img, cv2.COLOR_BGR2GRAY)\n",
    "    \n",
    "    # Find the chessboard corners\n",
    "    ret, corners = cv2.findChessboardCorners(gray, (9,6),None)\n",
    "    \n",
    "    # If found, add object points, image points\n",
    "    if ret == True:\n",
    "        objpoints.append(objp)\n",
    "        imgpoints.append(corners)\n",
    "        \n",
    "# Do camera calibration given object points and image points\n",
    "ret, mtx, dist, rvecs, tvecs = cv2.calibrateCamera(objpoints, imgpoints, img_size, None,None)\n",
    "\n",
    "# Save the camera calibration result for later use \n",
    "dist_pickle = {}\n",
    "dist_pickle[\"mtx\"] = mtx\n",
    "dist_pickle[\"dist\"] = dist\n",
    "dist_pickle[\"rvecs\"] = rvecs\n",
    "dist_pickle[\"tvecs\"] = tvecs\n",
    "pickle.dump( dist_pickle, open(\"./camera_cal/wide_dist_pickle.p\", \"wb\"))"
   ]
  },
  {
   "cell_type": "code",
   "execution_count": null,
   "metadata": {
    "scrolled": true
   },
   "outputs": [],
   "source": [
    "# Read in an image\n",
    "img = cv2.imread('./camera_cal/calibration1.jpg')\n",
    "dist_pickle = pickle.load(open(\"./camera_cal/wide_dist_pickle.p\", \"rb\"))\n",
    "# Undistort the image\n",
    "dst = cv2.undistort(img, dist_pickle[\"mtx\"], dist_pickle[\"dist\"], None, dist_pickle[\"mtx\"])\n",
    "# Save the image\n",
    "if not os.path.exists('./output_images/CameraCalibration/'):\n",
    "    os.mkdir('./output_images/CameraCalibration/')\n",
    "    \n",
    "f, (ax1, ax2) = plt.subplots(1, 2, figsize=(8, 3))\n",
    "f.tight_layout()\n",
    "ax1.imshow(img)\n",
    "ax1.set_title('Original')\n",
    "ax2.imshow(dst)\n",
    "ax2.set_title('Undistortion')\n",
    "plt.subplots_adjust(left=0.05, bottom=0.02, right=0.98, top=1, wspace=0.12, hspace=0)\n",
    "plt.savefig('./output_images/calibration1.jpg', dpi=100)"
   ]
  },
  {
   "cell_type": "markdown",
   "metadata": {},
   "source": [
    "## Pipeline"
   ]
  },
  {
   "cell_type": "markdown",
   "metadata": {},
   "source": [
    "### Distortion correction to raw images"
   ]
  },
  {
   "cell_type": "code",
   "execution_count": null,
   "metadata": {},
   "outputs": [],
   "source": [
    "def undistortion(img, dist_pickle):\n",
    "    mtx = dist_pickle[\"mtx\"]\n",
    "    dist = dist_pickle[\"dist\"]\n",
    "    dst = cv2.undistort(img, mtx, dist, None, mtx)\n",
    "    return dst"
   ]
  },
  {
   "cell_type": "markdown",
   "metadata": {},
   "source": [
    "### ROI selection"
   ]
  },
  {
   "cell_type": "code",
   "execution_count": null,
   "metadata": {},
   "outputs": [],
   "source": [
    "def roi(img, vertices, min_sz=50):    \n",
    "    mask = np.zeros_like(img)\n",
    "        #defining a 3 channel or 1 channel color to fill the mask with depending on the input image\n",
    "    if len(img.shape) > 2:\n",
    "        channel_count = img.shape[2]  # i.e. 3 or 4 depending on your image\n",
    "        ignore_mask_color = (255,) * channel_count\n",
    "    else:\n",
    "        ignore_mask_color = 255        \n",
    "    #filling pixels inside the polygon defined by \"vertices\" with the fill color    \n",
    "    cv2.fillPoly(mask, vertices, ignore_mask_color)\n",
    "    masked_image = cv2.bitwise_and(img, mask)\n",
    "    roi_selected = morphology.remove_small_objects(masked_image.astype('bool'),min_size=min_sz,connectivity=2)    \n",
    "    return roi_selected.astype('uint8')"
   ]
  },
  {
   "cell_type": "markdown",
   "metadata": {},
   "source": [
    "### Thresholded binary image\n",
    "- Using combined gradient and color threshold to get binary image"
   ]
  },
  {
   "cell_type": "code",
   "execution_count": null,
   "metadata": {},
   "outputs": [],
   "source": [
    "def abs_sobel_thresh(img, orient='x', sobel_kernel=3, thresh=(0, 255)):\n",
    "    # Calculate directional gradient\n",
    "    gray = cv2.cvtColor(img, cv2.COLOR_RGB2GRAY)\n",
    "    if orient=='x':\n",
    "        sobel = cv2.Sobel(gray, cv2.CV_64F, 1, 0, ksize=sobel_kernel)\n",
    "    if orient=='y':\n",
    "        sobel = cv2.Sobel(gray, cv2.CV_64F, 0, 1, ksize=sobel_kernel)\n",
    "    abs_sobel = np.absolute(sobel)\n",
    "    scaled_sobel = np.uint8(255*abs_sobel/np.max(abs_sobel))\n",
    "    # Apply threshold\n",
    "    grad_binary = np.zeros_like(scaled_sobel)\n",
    "    grad_binary[(scaled_sobel > thresh[0]) & (scaled_sobel < thresh[1])] = 1   \n",
    "    return grad_binary\n",
    "\n",
    "def mag_thresh(img, sobel_kernel=3, thresh=(30,170)):\n",
    "    # Calculate gradient magnitude\n",
    "    gray = cv2.cvtColor(img, cv2.COLOR_RGB2GRAY)\n",
    "    sobelx = cv2.Sobel(gray, cv2.CV_64F, 1, 0, ksize=sobel_kernel)\n",
    "    sobely = cv2.Sobel(gray, cv2.CV_64F, 0, 1, ksize=sobel_kernel)\n",
    "    abs_sobelxy = np.sqrt(np.square(sobely) + np.square(sobelx)) \n",
    "    scaled_sobel = np.uint8(255*abs_sobelxy/np.max(abs_sobelxy))\n",
    "    # Apply threshold\n",
    "    mag_binary = np.zeros_like(scaled_sobel)\n",
    "    mag_binary[(scaled_sobel > thresh[0]) & (scaled_sobel < thresh[1])] = 1\n",
    "    return mag_binary\n",
    "\n",
    "def dir_threshold(img, sobel_kernel=3, thresh=(0, np.pi/2)):\n",
    "    # Calculate gradient direction\n",
    "    gray = cv2.cvtColor(img, cv2.COLOR_RGB2GRAY)\n",
    "    sobelx = cv2.Sobel(gray, cv2.CV_64F, 1, 0, ksize=sobel_kernel)\n",
    "    sobely = cv2.Sobel(gray, cv2.CV_64F, 0, 1, ksize=sobel_kernel)\n",
    "    abs_sobelx = np.absolute(sobelx)\n",
    "    abs_sobely = np.absolute(sobely)\n",
    "    gradient_direction = np.arctan2(abs_sobely, abs_sobelx)\n",
    "    # Apply threshold\n",
    "    dir_binary = np.zeros_like(gradient_direction)\n",
    "    dir_binary[(gradient_direction > thresh[0]) & (gradient_direction < thresh[1])] = 1\n",
    "    return dir_binary\n",
    "\n",
    "def color_select(img, channel='L', thresh=(0, 255)):        \n",
    "    # Convert to HLS color space\n",
    "    hls = cv2.cvtColor(img, cv2.COLOR_RGB2HLS)\n",
    "    luv = cv2.cvtColor(img, cv2.COLOR_RGB2LUV)\n",
    "    lab = cv2.cvtColor(img, cv2.COLOR_RGB2Lab)\n",
    "    # Apply a threshold to specific channel\n",
    "    # HLS SPACE\n",
    "    if channel == 'H':\n",
    "        channel = hls[:,:,0]\n",
    "    if channel == 'hls_L':\n",
    "        channel = hls[:,:,1]\n",
    "    if channel == 'S':\n",
    "        channel = hls[:,:,2]\n",
    "    # RGB SPACE\n",
    "    if channel == 'R':\n",
    "        channel = img[:,:,0]\n",
    "    if channel == 'G':\n",
    "        channel = img[:,:,1]\n",
    "    if channel == 'rgb_B':\n",
    "        channel = img[:,:,2]\n",
    "     # LUV SPACE\n",
    "    if channel == 'luv_L':\n",
    "        channel = luv[:,:,0]\n",
    "    if channel == 'U':\n",
    "        channel = luv[:,:,1]\n",
    "    if channel == 'V':\n",
    "        channel = luv[:,:,2]\n",
    "    # Lab SPACE\n",
    "    if channel == 'lab_L':\n",
    "        channel = lab[:,:,0]\n",
    "    if channel == 'A':\n",
    "        channel = lab[:,:,1]\n",
    "    if channel == 'lab_B':\n",
    "        channel = lab[:,:,2]\n",
    "    \n",
    "    color_binary = np.zeros_like(channel)\n",
    "    color_binary[(channel > thresh[0]) & (channel <= thresh[1])] = 1\n",
    "    # Return a binary image of threshold result\n",
    "    return color_binary\n",
    "\n",
    "def apply_thresh(img, ksize=3):\n",
    "    # Apply each of the thresholding functions\n",
    "    gradx = abs_sobel_thresh(img, orient='x', sobel_kernel=ksize, thresh=(20, 100))\n",
    "    grady = abs_sobel_thresh(img, orient='y', sobel_kernel=ksize, thresh=(20, 100))\n",
    "    mag_binary = mag_thresh(img, sobel_kernel=ksize, thresh=(30,170))\n",
    "    dir_binary = dir_threshold(img, sobel_kernel=ksize, thresh=(0, np.pi/2))\n",
    "\n",
    "    color_binary_S = color_select(img, channel='S', thresh=(90, 255))\n",
    "    color_binary_luvL = color_select(img, channel='luv_L', thresh=(215, 255))    \n",
    "    color_binary_labB = color_select(img, channel='lab_B', thresh=(145, 200))\n",
    "    color_binary_R = color_select(img, channel='R', thresh=(200, 255))\n",
    "    \n",
    "    # Combined threshold\n",
    "    combined_output = np.zeros_like(gradx)\n",
    "    combined_output[((gradx == 1) & (mag_binary == 1) & (dir_binary == 1)) | \\\n",
    "                    ((color_binary_S == 1) & (color_binary_luvL == 1)) | \\\n",
    "                    (color_binary_labB == 1)] = 1  #| (color_binary_R == 1)\n",
    "    # Return a binary image of threshold result\n",
    "    return combined_output"
   ]
  },
  {
   "cell_type": "markdown",
   "metadata": {},
   "source": [
    "Note: If you read in an image using `matplotlib.image.imread()` you will get an `RGB` image, but if you read it in using OpenCV `cv2.imread()` this will give you a `BGR` image."
   ]
  },
  {
   "cell_type": "markdown",
   "metadata": {},
   "source": [
    "### Perspective transform"
   ]
  },
  {
   "cell_type": "code",
   "execution_count": null,
   "metadata": {},
   "outputs": [],
   "source": [
    "def bird_view(img):\n",
    "    img_size = (img.shape[1],img.shape[0])\n",
    "    \n",
    "    # Define 4 source point\n",
    "    src = np.float32(\n",
    "        [[(img_size[0] / 2) - 62, img_size[1] / 2 + 100],\n",
    "        [((img_size[0] / 6) - 10), img_size[1]],\n",
    "        [(img_size[0] * 5 / 6) + 60, img_size[1]],\n",
    "        [(img_size[0] / 2 + 62), img_size[1] / 2 + 100]])\n",
    "    # Define 4 destination point\n",
    "    dst = np.float32(\n",
    "        [[(img_size[0] / 4), 0],\n",
    "        [(img_size[0] / 4), img_size[1]],\n",
    "        [(img_size[0] * 3 / 4), img_size[1]],\n",
    "        [(img_size[0] * 3 / 4), 0]])        \n",
    "\n",
    "    # Get the perspective transform matrix M and inverse transform matrix Minv\n",
    "    M = cv2.getPerspectiveTransform(src, dst)\n",
    "    Minv = cv2.getPerspectiveTransform(dst, src)\n",
    "    \n",
    "    # Wrap the image to a bird view\n",
    "    warped = cv2.warpPerspective(img, M, img_size, flags=cv2.INTER_LINEAR)\n",
    "    return warped, M, Minv"
   ]
  },
  {
   "cell_type": "markdown",
   "metadata": {},
   "source": [
    "### Detect lane pixels and fit to find the lane boundary."
   ]
  },
  {
   "cell_type": "code",
   "execution_count": null,
   "metadata": {},
   "outputs": [],
   "source": [
    "# Find the lane line and fit in pixels\n",
    "class Line():\n",
    "    def __init__(self):\n",
    "        # was the line detected in the last iteration?\n",
    "        self.detected = False  \n",
    "        #polynomial coefficients averaged over the last n iterations\n",
    "        self.best_fit_left = None\n",
    "        self.best_fit_right = None\n",
    "        #polynomial coefficients for the most recent fit\n",
    "        self.current_fit_left =[]\n",
    "        self.current_fit_right =[]\n",
    "        #difference in fit coefficients between last and new fits\n",
    "        self.diffs_left = np.array([0,0,0], dtype='float')\n",
    "        self.diffs_right = np.array([0,0,0], dtype='float')\n",
    "        #number of detected pixels\n",
    "        #self.pixel_count = None\n",
    "        \n",
    "    def lanes_finder(self, img):\n",
    "        if(not self.detected):            \n",
    "            self.left_fit, self.right_fit, out_img = self.find_lane_pixels(img)\n",
    "            self.detected = True\n",
    "            return self.left_fit, self.right_fit, self.left_lane_inds, self.right_lane_inds, out_img\n",
    "        else:\n",
    "            self.left_fit, self.right_fit, out_img = self.search_around_poly(img, self.left_fit, self.right_fit)\n",
    "            return self.left_fit, self.right_fit, self.left_lane_inds, self.right_lane_inds, out_img    \n",
    "\n",
    "    def find_lane_pixels(self, binary_warped):\n",
    "        # Take a histogram of the bottom half of the image\n",
    "        histogram = np.sum(binary_warped[binary_warped.shape[0]//2:,:], axis=0)\n",
    "        # Create an output image to draw on and visualize the result\n",
    "        out_img = np.dstack((binary_warped, binary_warped, binary_warped))\n",
    "        # Find the peak of the left and right halves of the histogram\n",
    "        # These will be the starting point for the left and right lines\n",
    "        midpoint = np.int(histogram.shape[0]//2)\n",
    "        leftx_base = np.argmax(histogram[:midpoint])\n",
    "        rightx_base = np.argmax(histogram[midpoint:]) + midpoint\n",
    "\n",
    "        # HYPERPARAMETERS\n",
    "        # Choose the number of sliding windows\n",
    "        nwindows = 18\n",
    "        # Set the width of the windows +/- margin\n",
    "        margin = 50\n",
    "        # Set minimum number of pixels found to recenter window\n",
    "        minpix = 20\n",
    "\n",
    "        # Set height of windows - based on nwindows above and image shape\n",
    "        window_height = np.int(binary_warped.shape[0]//nwindows)\n",
    "        # Identify the x and y positions of all nonzero pixels in the image\n",
    "        nonzero = binary_warped.nonzero()\n",
    "        nonzeroy = np.array(nonzero[0])\n",
    "        nonzerox = np.array(nonzero[1])\n",
    "        # Current positions to be updated later for each window in nwindows\n",
    "        leftx_current = leftx_base\n",
    "        rightx_current = rightx_base\n",
    "\n",
    "        # Create empty lists to receive left and right lane pixel indices\n",
    "        left_lane_inds = []\n",
    "        right_lane_inds = []\n",
    "\n",
    "        # Step through the windows one by one\n",
    "        for window in range(nwindows):\n",
    "            # Identify window boundaries in x and y (and right and left)\n",
    "            win_y_low = binary_warped.shape[0] - (window+1)*window_height\n",
    "            win_y_high = binary_warped.shape[0] - window*window_height\n",
    "            ### TO-DO: Find the four below boundaries of the window ###\n",
    "            win_xleft_low = leftx_current - margin  \n",
    "            win_xleft_high = leftx_current + margin  \n",
    "\n",
    "            win_xright_low = rightx_current - margin\n",
    "            win_xright_high = rightx_current + margin\n",
    "\n",
    "            # Draw the windows on the visualization image\n",
    "            cv2.rectangle(out_img,(win_xleft_low,win_y_low),(win_xleft_high,win_y_high),(0,255,0), 2 ) \n",
    "            cv2.rectangle(out_img,(win_xright_low,win_y_low),(win_xright_high,win_y_high),(0,255,0), 2 ) \n",
    "\n",
    "            ### Identify the nonzero pixels in x and y within the window ###\n",
    "            good_left_inds = ((nonzeroy >= win_y_low) & (nonzeroy < win_y_high) & \n",
    "            (nonzerox >= win_xleft_low) &  (nonzerox < win_xleft_high)).nonzero()[0]\n",
    "            good_right_inds = ((nonzeroy >= win_y_low) & (nonzeroy < win_y_high) & \n",
    "            (nonzerox >= win_xright_low) &  (nonzerox < win_xright_high)).nonzero()[0]\n",
    "\n",
    "            # Append these indices to the lists\n",
    "            left_lane_inds.append(good_left_inds)\n",
    "            right_lane_inds.append(good_right_inds)\n",
    "\n",
    "            ### (`right` or `leftx_current`) on their mean position ###\n",
    "            if len(good_left_inds)> minpix:\n",
    "                leftx_current = np.int(np.mean(nonzerox[good_left_inds]))\n",
    "            if len(good_right_inds)> minpix:\n",
    "                rightx_current = np.int(np.mean(nonzerox[good_right_inds]))\n",
    "\n",
    "        # Concatenate the arrays of indices (previously was a list of lists of pixels)\n",
    "        try:\n",
    "            left_lane_inds = np.concatenate(left_lane_inds)\n",
    "            right_lane_inds = np.concatenate(right_lane_inds)\n",
    "        except ValueError:\n",
    "            # Avoids an error if the above is not implemented fully\n",
    "            pass\n",
    "\n",
    "        # Extract left and right line pixel positions\n",
    "        leftx = nonzerox[left_lane_inds]\n",
    "        lefty = nonzeroy[left_lane_inds] \n",
    "        rightx = nonzerox[right_lane_inds]\n",
    "        righty = nonzeroy[right_lane_inds]\n",
    "        \n",
    "        out_img[lefty, leftx] = [255, 0, 0]\n",
    "        out_img[righty, rightx] = [0, 0, 255]\n",
    "\n",
    "        # Fit a second order polynomial to each\n",
    "        if len(leftx) != 0:\n",
    "            left_fit = np.polyfit(lefty, leftx, 2)\n",
    "        if len(rightx) != 0:\n",
    "            right_fit = np.polyfit(righty, rightx, 2)\n",
    "\n",
    "        return left_fit, right_fit, left_lane_inds, right_lane_inds, out_img\n",
    "\n",
    "    def search_around_poly(self, binary_warped, left_fit, right_fit):\n",
    "        # HYPERPARAMETER\n",
    "        # Choose the width of the margin around the previous polynomial to search\n",
    "        # The quiz grader expects 100 here, but feel free to tune on your own!\n",
    "        margin = 50\n",
    "\n",
    "        # Grab activated pixels\n",
    "        nonzero = binary_warped.nonzero()\n",
    "        nonzeroy = np.array(nonzero[0])\n",
    "        nonzerox = np.array(nonzero[1])\n",
    "\n",
    "        ### TO-DO: Set the area of search based on activated x-values ###\n",
    "        ### within the +/- margin of our polynomial function ###\n",
    "        ### Hint: consider the window areas for the similarly named variables ###\n",
    "        ### in the previous quiz, but change the windows to our new search area ###\n",
    "        left_lane_inds = ((nonzerox > (left_fit[0]*(nonzeroy**2) + left_fit[1]*nonzeroy + \n",
    "                        left_fit[2] - margin)) & (nonzerox < (left_fit[0]*(nonzeroy**2) + \n",
    "                        left_fit[1]*nonzeroy + left_fit[2] + margin)))\n",
    "        right_lane_inds = ((nonzerox > (right_fit[0]*(nonzeroy**2) + right_fit[1]*nonzeroy + \n",
    "                        right_fit[2] - margin)) & (nonzerox < (right_fit[0]*(nonzeroy**2) + \n",
    "                        right_fit[1]*nonzeroy + right_fit[2] + margin)))\n",
    "\n",
    "        # Again, extract left and right line pixel positions\n",
    "        leftx = nonzerox[left_lane_inds]\n",
    "        lefty = nonzeroy[left_lane_inds] \n",
    "        rightx = nonzerox[right_lane_inds]\n",
    "        righty = nonzeroy[right_lane_inds]\n",
    "\n",
    "        # Fit new polynomials\n",
    "        if len(leftx) != 0:\n",
    "            left_fit_new = np.polyfit(lefty, leftx, 2)\n",
    "        if len(rightx) != 0:\n",
    "            right_fit_new = np.polyfit(righty, rightx, 2)\n",
    "            \n",
    "        ## Visualization ##\n",
    "        # Create an image to draw on and an image to show the selection window\n",
    "        out_img = np.dstack((binary_warped, binary_warped, binary_warped))*255\n",
    "        \n",
    "        # Color in left and right line pixels      \n",
    "        out_img[nonzeroy[left_lane_inds], nonzerox[left_lane_inds]] = [255, 0, 0]\n",
    "        out_img[nonzeroy[right_lane_inds], nonzerox[right_lane_inds]] = [0, 0, 255]\n",
    "\n",
    "        return left_fit_new, right_fit_new, left_lane_inds, right_lane_inds, out_img\n",
    "    \n",
    "    def smooth_average(self, left_fit, right_fit, buffer_size=5):\n",
    "        if (left_fit is not None) and (right_fit is not None):\n",
    "            if (self.best_fit_left is not None) and (self.best_fit_right is not None): \n",
    "                self.diffs_left = abs(left_fit-self.best_fit_left)\n",
    "                self.diffs_right = abs(right_fit-self.best_fit_right)\n",
    "            if ((self.diffs_left[0] > 0.001 or self.diffs_right[0] > 0.001 or \\\n",
    "               self.diffs_left[1] > 1.0 or self.diffs_right[1] > 1.0 or \\\n",
    "               self.diffs_left[2] > 100 or self.diffs_right[2] > 100) and \\\n",
    "               (len(self.current_fit_left) > 0 or len(self.current_fit_right)) > 0):\n",
    "                self.detected = False\n",
    "            else:\n",
    "                self.detected = True\n",
    "                self.current_fit_left.append(left_fit)\n",
    "                self.current_fit_right.append(right_fit)                \n",
    "                if len(self.current_fit_left) > buffer_size:\n",
    "                    self.current_fit_left = self.current_fit_left[len(self.current_fit_left)-buffer_size:]\n",
    "                if len(self.current_fit_right) > buffer_size:\n",
    "                    self.current_fit_right = self.current_fit_right[len(self.current_fit_right)-buffer_size:]\n",
    "                self.best_fit_left = np.average(self.current_fit_left, axis=0)\n",
    "                self.best_fit_right = np.average(self.current_fit_right, axis=0)\n",
    "        else:\n",
    "            self.detected = False\n",
    "            if len(self.current_fit_left) > 0:\n",
    "                self.current_fit_left = self.current_fit_left[:len(self.current_fit_left)-1]\n",
    "            if len(self.current_fit_right) > 0:\n",
    "                self.current_fit_right = self.current_fit_right[:len(self.current_fit_right)-1]\n",
    "            if len(self.current_fit_left) > 0:\n",
    "                self.best_fit_left = np.average(self.current_fit_left, axis=0)\n",
    "            if len(self.current_fit_right) > 0:\n",
    "                self.best_fit_right = np.average(self.current_fit_right, axis=0)"
   ]
  },
  {
   "cell_type": "markdown",
   "metadata": {},
   "source": [
    "### Determine the curvature of the lane and vehicle position with respect to center"
   ]
  },
  {
   "cell_type": "code",
   "execution_count": null,
   "metadata": {},
   "outputs": [],
   "source": [
    "def measure_curvature_real(ploty, left_fit, right_fit, ym_per_pix = 30/720, xm_per_pix = 3.7/700):\n",
    "  \n",
    "    # Define y-value where we want radius of curvature\n",
    "    # We'll choose the maximum y-value, corresponding to the bottom of the image\n",
    "    y_eval = np.max(ploty)    \n",
    "    # Calculation of R_curve (radius of curvature)\n",
    "    left_curvature = np.sqrt((1+(2*left_fit[0]*y_eval*ym_per_pix + left_fit[1])**2)**3)/(2*np.abs(left_fit[0]))  ## Implement the calculation of the left line here\n",
    "    right_curvature = np.sqrt((1+(2*right_fit[0]*y_eval*ym_per_pix + right_fit[1])**2)**3)/(2*np.abs(right_fit[0])) ## Implement the calculation of the right line here\n",
    "    average_curvature = (left_curvature+right_curvature)/2    \n",
    "    return average_curvature\n",
    "\n",
    "def measure_vehicle_offset(img, ploty, left_fit, right_fit, xm_per_pix = 3.7/700):\n",
    "    y_eval = np.max(ploty)\n",
    "    left_line_x = left_fit[0]*y_eval**2 + left_fit[1]*y_eval + left_fit[2]\n",
    "    right_line_x = right_fit[0]*y_eval**2 + right_fit[1]*y_eval + right_fit[2]\n",
    "    center_of_lane = (left_line_x + right_line_x)/2\n",
    "    offset = (img.shape[1]/2 - center_of_lane)*xm_per_pix\n",
    "    return offset"
   ]
  },
  {
   "cell_type": "markdown",
   "metadata": {},
   "source": [
    "### Warp the detected lane boundaries back onto the original image"
   ]
  },
  {
   "cell_type": "code",
   "execution_count": null,
   "metadata": {},
   "outputs": [],
   "source": [
    "def project_fit_lane(original, binary_warped, left_fit, right_fit, Minv):\n",
    "    # Generate x and y values for plotting\n",
    "    ploty = np.linspace(0, binary_warped.shape[0]-1, binary_warped.shape[0] )\n",
    "    left_fitx = left_fit[0]*ploty**2 + left_fit[1]*ploty + left_fit[2]\n",
    "    right_fitx = right_fit[0]*ploty**2 + right_fit[1]*ploty + right_fit[2]\n",
    "\n",
    "    # Create an image to draw the lines on\n",
    "    color_warp = np.zeros_like(original).astype(np.uint8)\n",
    "\n",
    "    # Recast the x and y points into usable format for cv2.fillPoly()\n",
    "    pts_left = np.array([np.transpose(np.vstack([left_fitx, ploty]))])\n",
    "    pts_right = np.array([np.flipud(np.transpose(np.vstack([right_fitx, ploty])))])\n",
    "    pts = np.hstack((pts_left, pts_right))\n",
    "\n",
    "    # Draw the lane onto the warped blank image\n",
    "    cv2.fillPoly(color_warp, np.int_([pts]), (0, 255, 0))\n",
    "\n",
    "    # Warp the blank back to original image space using inverse perspective matrix (Minv)\n",
    "    newwarp = cv2.warpPerspective(color_warp, Minv, (original.shape[1], original.shape[0]), flags=cv2.INTER_LINEAR) \n",
    "\n",
    "    # Combine the result with the original image\n",
    "    result = cv2.addWeighted(original, 1, newwarp, 0.3, 0)    \n",
    "    return result"
   ]
  },
  {
   "cell_type": "markdown",
   "metadata": {},
   "source": [
    "### Output visual display of the lane boundaries and numerical estimation of lane curvature and vehicle position"
   ]
  },
  {
   "cell_type": "code",
   "execution_count": null,
   "metadata": {},
   "outputs": [],
   "source": [
    "def project_fit_lane_info(img, average_curvature, offset):  \n",
    "    direction = \"right\" if offset < 0 else \"left\"\n",
    "    str_cur = \"Radius of Curvature = {}(m)\".format(int(average_curvature))\n",
    "    str_offset = \"Vehicle is {0:.2f}m \".format(abs(offset)) + \"{} of center\".format(direction)\n",
    "    final_img = cv2.putText(img, str_cur, (30,40), 0, 1, (200,255,155), 2, cv2.LINE_AA)\n",
    "    final_img = cv2.putText(img, str_offset, (30,70), 0, 1, (200,255,155), 2, cv2.LINE_AA)\n",
    "    return final_img"
   ]
  },
  {
   "cell_type": "markdown",
   "metadata": {},
   "source": [
    "### Test on images"
   ]
  },
  {
   "cell_type": "code",
   "execution_count": null,
   "metadata": {
    "scrolled": false
   },
   "outputs": [],
   "source": [
    "test_imgs = os.listdir(\"./test_images/\")\n",
    "for file in test_imgs:\n",
    "    original_img = mpimg.imread(\"./test_images/\"+file)\n",
    "    \n",
    "    # Undistort images\n",
    "    dist_pickle = pickle.load(open(\"./camera_cal/wide_dist_pickle.p\", \"rb\"))    \n",
    "    undist_img = undistortion(original_img, dist_pickle)\n",
    "\n",
    "    # Threshold\n",
    "    binary_img = apply_thresh(undist_img, ksize=9)\n",
    "   \n",
    "    # ROI selection\n",
    "    vertices = np.array([[(100,720),(669,400),(638,400),(1290,720)]],dtype=np.int32)\n",
    "    roi_img = roi(binary_img, vertices)\n",
    "        \n",
    "    # Perspective transform\n",
    "    bird_view_img, perspective_M, perspective_Minv = bird_view(roi_img)\n",
    "    \n",
    "    # Lane line detection\n",
    "    L = Line()    \n",
    "    left_fit, right_fit, left_lane_inds, right_lane_inds, out_img = L.find_lane_pixels(bird_view_img)\n",
    "\n",
    "    ploty = np.linspace(0, bird_view_img.shape[0]-1, bird_view_img.shape[0]) \n",
    "    wrap_lane_img =  project_fit_lane(undist_img, bird_view_img, left_fit, right_fit, perspective_Minv)\n",
    "    \n",
    "    average_curvature = measure_curvature_real(ploty, left_fit, right_fit)\n",
    "    offset = measure_vehicle_offset(bird_view_img, ploty, left_fit, right_fit)\n",
    "    final_img_input = np.copy(wrap_lane_img)\n",
    "    final_img = project_fit_lane_info(final_img_input, average_curvature, offset)\n",
    "    \n",
    "    f, (ax1, ax2, ax3, ax4, ax5, ax6) = plt.subplots(1, 6, figsize=(24, 3))\n",
    "    f.tight_layout()\n",
    "    ax1.imshow(original_img)\n",
    "    ax1.set_title('Original')\n",
    "    ax2.imshow(undist_img)\n",
    "    ax2.set_title('Undistortion')\n",
    "    ax3.imshow(binary_img, cmap='gray')\n",
    "    ax3.set_title('Binary')\n",
    "    ax4.imshow(bird_view_img, cmap='gray')\n",
    "    ax4.set_title('Bird_view')\n",
    "    ax5.imshow(out_img)\n",
    "    ax5.set_title('Lane_line')\n",
    "    ax6.imshow(final_img)\n",
    "    ax6.set_title('Final') \n",
    "    plt.subplots_adjust(left=0.05, bottom=0.02, right=0.98, top=1, wspace=0.12, hspace=0)\n",
    "    plt.savefig('./output_images/' + file, dpi=100)"
   ]
  },
  {
   "cell_type": "markdown",
   "metadata": {},
   "source": [
    "### Pipeline construction"
   ]
  },
  {
   "cell_type": "code",
   "execution_count": null,
   "metadata": {},
   "outputs": [],
   "source": [
    "def Lane_detector(img):\n",
    "    undist_img = undistortion(img, dist_pickle)     \n",
    "    binary_img = apply_thresh(undist_img, ksize=9)\n",
    "    \n",
    "    #ROI selection\n",
    "    vertices = np.array([[(100,720),(545,470),(755,470),(1290,720)]],dtype=np.int32)\n",
    "    roi_img = roi(binary_img, vertices)    \n",
    "    \n",
    "    bird_view_img, perspective_M, perspective_Minv = bird_view(roi_img)\n",
    "    \n",
    "    L = Line() \n",
    "    R = Line()\n",
    "    left_fit, right_fit, left_lane_inds, right_lane_inds, out_img = L.find_lane_pixels(bird_view_img)\n",
    "         \n",
    "    L.smooth_average(left_fit, right_fit, buffer_size=3)\n",
    "    \n",
    "    ploty = np.linspace(0, img.shape[0]-1, img.shape[0])    \n",
    "    if (L.best_fit_left is not None) and (L.best_fit_right is not None):         \n",
    "        average_curvature = measure_curvature_real(ploty, L.best_fit_left, L.best_fit_right)\n",
    "        offset = measure_vehicle_offset(bird_view_img, ploty, L.best_fit_left, L.best_fit_right)\n",
    "        wrap_lane_img =  project_fit_lane(undist_img, bird_view_img, L.best_fit_left, L.best_fit_right, perspective_Minv)\n",
    "        project_fit_lane_info(wrap_lane_img, average_curvature, offset)\n",
    "    else:\n",
    "        wrap_lane_img = img\n",
    "        average_curvature = measure_curvature_real(ploty, left_fit, right_fit)\n",
    "        offset = measure_vehicle_offset(bird_view_img, ploty, left_fit, right_fit)\n",
    "        wrap_lane_img =  project_fit_lane(undist_img, bird_view_img, left_fit, right_fit, perspective_Minv)\n",
    "        project_fit_lane_info(wrap_lane_img, average_curvature, offset)  \n",
    "\n",
    "    return wrap_lane_img"
   ]
  },
  {
   "cell_type": "markdown",
   "metadata": {},
   "source": [
    "## Test on Videos"
   ]
  },
  {
   "cell_type": "markdown",
   "metadata": {},
   "source": [
    "### Project video"
   ]
  },
  {
   "cell_type": "code",
   "execution_count": null,
   "metadata": {},
   "outputs": [],
   "source": [
    "# Import everything needed to edit/save/watch video clips\n",
    "from moviepy.editor import VideoFileClip\n",
    "from IPython.display import HTML"
   ]
  },
  {
   "cell_type": "code",
   "execution_count": null,
   "metadata": {},
   "outputs": [],
   "source": [
    "white_output = 'test_videos_output/project_video.mp4'\n",
    "## To speed up the testing process you may want to try your pipeline on a shorter subclip of the video\n",
    "## To do so add .subclip(start_second,end_second) to the end of the line below\n",
    "## Where start_second and end_second are integer values representing the start and end of the subclip\n",
    "## You may also uncomment the following line for a subclip of the first 5 seconds\n",
    "##clip1 = VideoFileClip(\"test_videos/solidWhiteRight.mp4\").subclip(0,5)\n",
    "clip1 = VideoFileClip(\"project_video.mp4\").subclip(30,35)\n",
    "white_clip = clip1.fl_image(Lane_detector) #NOTE: this function expects color images!!\n",
    "%time white_clip.write_videofile(white_output, audio=False)"
   ]
  },
  {
   "cell_type": "code",
   "execution_count": null,
   "metadata": {},
   "outputs": [],
   "source": [
    "HTML(\"\"\"\n",
    "<video width=\"960\" height=\"540\" controls>\n",
    "  <source src=\"{0}\">\n",
    "</video>?\n",
    "\"\"\".format(white_output))"
   ]
  },
  {
   "cell_type": "markdown",
   "metadata": {},
   "source": [
    "### Challenge video"
   ]
  },
  {
   "cell_type": "code",
   "execution_count": null,
   "metadata": {},
   "outputs": [],
   "source": [
    "white_output = 'test_videos_output/challenge_video.mp4'\n",
    "## To speed up the testing process you may want to try your pipeline on a shorter subclip of the video\n",
    "## To do so add .subclip(start_second,end_second) to the end of the line below\n",
    "## Where start_second and end_second are integer values representing the start and end of the subclip\n",
    "## You may also uncomment the following line for a subclip of the first 5 seconds\n",
    "##clip1 = VideoFileClip(\"test_videos/solidWhiteRight.mp4\").subclip(0,5)\n",
    "clip1 = VideoFileClip(\"challenge_video.mp4\")#.subclip(0,5)\n",
    "white_clip = clip1.fl_image(Lane_detector) #NOTE: this function expects color images!!\n",
    "%time white_clip.write_videofile(white_output, audio=False)"
   ]
  },
  {
   "cell_type": "code",
   "execution_count": null,
   "metadata": {
    "scrolled": false
   },
   "outputs": [],
   "source": [
    "HTML(\"\"\"\n",
    "<video width=\"960\" height=\"540\" controls>\n",
    "  <source src=\"{0}\">\n",
    "</video>                                                                                                                                                                                                                                                                                                                                                                                                                                                                                                                                                                                                                                                                                                                                                                                                            \n",
    "\"\"\".format(white_output))"
   ]
  },
  {
   "cell_type": "markdown",
   "metadata": {},
   "source": [
    "### Harder challenge video"
   ]
  },
  {
   "cell_type": "code",
   "execution_count": null,
   "metadata": {},
   "outputs": [],
   "source": [
    "white_output = 'test_videos_output/harder_challenge_video.mp4'\n",
    "## To speed up the testing process you may want to try your pipeline on a shorter subclip of the video\n",
    "## To do so add .subclip(start_second,end_second) to the end of the line below\n",
    "## Where start_second and end_second are integer values representing the start and end of the subclip\n",
    "## You may also uncomment the following line for a subclip of the first 5 seconds\n",
    "##clip1 = VideoFileClip(\"test_videos/solidWhiteRight.mp4\").subclip(0,5)\n",
    "clip1 = VideoFileClip(\"harder_challenge_video.mp4\")#.subclip(0,5)\n",
    "white_clip = clip1.fl_image(Lane_detector) #NOTE: this function expects color images!!\n",
    "%time white_clip.write_videofile(white_output, audio=False)"
   ]
  },
  {
   "cell_type": "code",
   "execution_count": null,
   "metadata": {},
   "outputs": [],
   "source": [
    "HTML(\"\"\"\n",
    "<video width=\"960\" height=\"540\" controls>\n",
    "  <source src=\"{0}\">\n",
    "</video>\n",
    "\"\"\".format(white_output))"
   ]
  },
  {
   "cell_type": "code",
   "execution_count": null,
   "metadata": {},
   "outputs": [],
   "source": []
  }
 ],
 "metadata": {
  "kernelspec": {
   "display_name": "Python [conda env:Zhao_tfv1]",
   "language": "python",
   "name": "conda-env-Zhao_tfv1-py"
  },
  "language_info": {
   "codemirror_mode": {
    "name": "ipython",
    "version": 3
   },
   "file_extension": ".py",
   "mimetype": "text/x-python",
   "name": "python",
   "nbconvert_exporter": "python",
   "pygments_lexer": "ipython3",
   "version": "3.6.9"
  }
 },
 "nbformat": 4,
 "nbformat_minor": 2
}
